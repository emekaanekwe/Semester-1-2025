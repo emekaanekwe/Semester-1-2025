{
 "cells": [
  {
   "cell_type": "code",
   "execution_count": 2,
   "id": "a48652ec",
   "metadata": {},
   "outputs": [],
   "source": [
    "import scipy\n",
    "\n",
    "\n"
   ]
  },
  {
   "cell_type": "code",
   "execution_count": 17,
   "id": "c4528e7e",
   "metadata": {},
   "outputs": [
    {
     "ename": "ValueError",
     "evalue": "Invalid input for linprog: A_eq must have exactly two dimensions, and the number of columns in A_eq must be equal to the size of c",
     "output_type": "error",
     "traceback": [
      "\u001b[0;31m---------------------------------------------------------------------------\u001b[0m",
      "\u001b[0;31mValueError\u001b[0m                                Traceback (most recent call last)",
      "Cell \u001b[0;32mIn[17], line 37\u001b[0m\n\u001b[1;32m     28\u001b[0m beq \u001b[38;5;241m=\u001b[39m [\u001b[38;5;241m1\u001b[39m]\n\u001b[1;32m     30\u001b[0m \u001b[38;5;124;03m'''\u001b[39;00m\n\u001b[1;32m     31\u001b[0m \u001b[38;5;124;03mrow1 = 0*y1+2*y2-3*y3 # >= 0\u001b[39;00m\n\u001b[1;32m     32\u001b[0m \u001b[38;5;124;03mrow2 = -2*y1+0*y2+0*y3+3*y4\u001b[39;00m\n\u001b[1;32m     33\u001b[0m \u001b[38;5;124;03mrow4 = 3*y1+0*y2+0*y3-4*y4\u001b[39;00m\n\u001b[1;32m     34\u001b[0m \u001b[38;5;124;03mrow4 = 0*y1+-3*y2+4*y3+0*y4\u001b[39;00m\n\u001b[1;32m     35\u001b[0m \u001b[38;5;124;03m'''\u001b[39;00m\n\u001b[0;32m---> 37\u001b[0m sol \u001b[38;5;241m=\u001b[39m scipy\u001b[38;5;241m.\u001b[39moptimize\u001b[38;5;241m.\u001b[39mlinprog(c, A_ub\u001b[38;5;241m=\u001b[39maub, b_ub\u001b[38;5;241m=\u001b[39mbub, A_eq\u001b[38;5;241m=\u001b[39maeq, b_eq\u001b[38;5;241m=\u001b[39mbeq)\n\u001b[1;32m     39\u001b[0m \u001b[38;5;28;01mfor\u001b[39;00m _ \u001b[38;5;129;01min\u001b[39;00m \u001b[38;5;28mrange\u001b[39m(\u001b[38;5;241m1\u001b[39m):\n\u001b[1;32m     40\u001b[0m     \u001b[38;5;28mprint\u001b[39m(_, sol[\u001b[38;5;124m\"\u001b[39m\u001b[38;5;124mx\u001b[39m\u001b[38;5;124m\"\u001b[39m][_])\n",
      "File \u001b[0;32m~/anaconda3/envs/fit5226/lib/python3.13/site-packages/scipy/optimize/_linprog.py:649\u001b[0m, in \u001b[0;36mlinprog\u001b[0;34m(c, A_ub, b_ub, A_eq, b_eq, bounds, method, callback, options, x0, integrality)\u001b[0m\n\u001b[1;32m    646\u001b[0m     integrality \u001b[38;5;241m=\u001b[39m \u001b[38;5;28;01mNone\u001b[39;00m\n\u001b[1;32m    648\u001b[0m lp \u001b[38;5;241m=\u001b[39m _LPProblem(c, A_ub, b_ub, A_eq, b_eq, bounds, x0, integrality)\n\u001b[0;32m--> 649\u001b[0m lp, solver_options \u001b[38;5;241m=\u001b[39m _parse_linprog(lp, options, meth)\n\u001b[1;32m    650\u001b[0m tol \u001b[38;5;241m=\u001b[39m solver_options\u001b[38;5;241m.\u001b[39mget(\u001b[38;5;124m'\u001b[39m\u001b[38;5;124mtol\u001b[39m\u001b[38;5;124m'\u001b[39m, \u001b[38;5;241m1e-9\u001b[39m)\n\u001b[1;32m    652\u001b[0m \u001b[38;5;66;03m# Give unmodified problem to HiGHS\u001b[39;00m\n",
      "File \u001b[0;32m~/anaconda3/envs/fit5226/lib/python3.13/site-packages/scipy/optimize/_linprog_util.py:1026\u001b[0m, in \u001b[0;36m_parse_linprog\u001b[0;34m(lp, options, meth)\u001b[0m\n\u001b[1;32m   1023\u001b[0m solver_options, A_ub, A_eq \u001b[38;5;241m=\u001b[39m _check_sparse_inputs(solver_options, meth,\n\u001b[1;32m   1024\u001b[0m                                                   lp\u001b[38;5;241m.\u001b[39mA_ub, lp\u001b[38;5;241m.\u001b[39mA_eq)\n\u001b[1;32m   1025\u001b[0m \u001b[38;5;66;03m# Convert lists to numpy arrays, etc...\u001b[39;00m\n\u001b[0;32m-> 1026\u001b[0m lp \u001b[38;5;241m=\u001b[39m _clean_inputs(lp\u001b[38;5;241m.\u001b[39m_replace(A_ub\u001b[38;5;241m=\u001b[39mA_ub, A_eq\u001b[38;5;241m=\u001b[39mA_eq))\n\u001b[1;32m   1027\u001b[0m \u001b[38;5;28;01mreturn\u001b[39;00m lp, solver_options\n",
      "File \u001b[0;32m~/anaconda3/envs/fit5226/lib/python3.13/site-packages/scipy/optimize/_linprog_util.py:358\u001b[0m, in \u001b[0;36m_clean_inputs\u001b[0;34m(lp)\u001b[0m\n\u001b[1;32m    356\u001b[0m n_eq \u001b[38;5;241m=\u001b[39m A_eq\u001b[38;5;241m.\u001b[39mshape[\u001b[38;5;241m0\u001b[39m]\n\u001b[1;32m    357\u001b[0m \u001b[38;5;28;01mif\u001b[39;00m \u001b[38;5;28mlen\u001b[39m(A_eq\u001b[38;5;241m.\u001b[39mshape) \u001b[38;5;241m!=\u001b[39m \u001b[38;5;241m2\u001b[39m \u001b[38;5;129;01mor\u001b[39;00m A_eq\u001b[38;5;241m.\u001b[39mshape[\u001b[38;5;241m1\u001b[39m] \u001b[38;5;241m!=\u001b[39m n_x:\n\u001b[0;32m--> 358\u001b[0m     \u001b[38;5;28;01mraise\u001b[39;00m \u001b[38;5;167;01mValueError\u001b[39;00m(\n\u001b[1;32m    359\u001b[0m         \u001b[38;5;124m\"\u001b[39m\u001b[38;5;124mInvalid input for linprog: A_eq must have exactly two \u001b[39m\u001b[38;5;124m\"\u001b[39m\n\u001b[1;32m    360\u001b[0m         \u001b[38;5;124m\"\u001b[39m\u001b[38;5;124mdimensions, and the number of columns in A_eq must be \u001b[39m\u001b[38;5;124m\"\u001b[39m\n\u001b[1;32m    361\u001b[0m         \u001b[38;5;124m\"\u001b[39m\u001b[38;5;124mequal to the size of c\u001b[39m\u001b[38;5;124m\"\u001b[39m)\n\u001b[1;32m    363\u001b[0m \u001b[38;5;28;01mif\u001b[39;00m (sps\u001b[38;5;241m.\u001b[39missparse(A_eq) \u001b[38;5;129;01mand\u001b[39;00m \u001b[38;5;129;01mnot\u001b[39;00m np\u001b[38;5;241m.\u001b[39misfinite(A_eq\u001b[38;5;241m.\u001b[39mdata)\u001b[38;5;241m.\u001b[39mall()\n\u001b[1;32m    364\u001b[0m         \u001b[38;5;129;01mor\u001b[39;00m \u001b[38;5;129;01mnot\u001b[39;00m sps\u001b[38;5;241m.\u001b[39missparse(A_eq) \u001b[38;5;129;01mand\u001b[39;00m \u001b[38;5;129;01mnot\u001b[39;00m np\u001b[38;5;241m.\u001b[39misfinite(A_eq)\u001b[38;5;241m.\u001b[39mall()):\n\u001b[1;32m    365\u001b[0m     \u001b[38;5;28;01mraise\u001b[39;00m \u001b[38;5;167;01mValueError\u001b[39;00m(\n\u001b[1;32m    366\u001b[0m         \u001b[38;5;124m\"\u001b[39m\u001b[38;5;124mInvalid input for linprog: A_eq must not contain values \u001b[39m\u001b[38;5;124m\"\u001b[39m\n\u001b[1;32m    367\u001b[0m         \u001b[38;5;124m\"\u001b[39m\u001b[38;5;124minf, nan, or None\u001b[39m\u001b[38;5;124m\"\u001b[39m)\n",
      "\u001b[0;31mValueError\u001b[0m: Invalid input for linprog: A_eq must have exactly two dimensions, and the number of columns in A_eq must be equal to the size of c"
     ]
    }
   ],
   "source": [
    "import scipy.optimize\n",
    "\n",
    "\n",
    "aub = [\n",
    "    [0, 2, -3, 0, -1],\n",
    "    [-2, 0, 0, 3, -1,],\n",
    "    [3, 0, 0, -4, -1,],\n",
    "    [0, -3, 4, 0, -1]\n",
    "    ]\n",
    "\n",
    "'''\n",
    "min(c^Tx) = min(z') entails c below\n",
    "'''\n",
    "          #z here\n",
    "c=[0,0,0,0,1]\n",
    "z = 1 #vars wanting to find. must be 1\n",
    "\n",
    "\n",
    "y1 = 1\n",
    "y2=1\n",
    "y3=1\n",
    "y4=1\n",
    "\n",
    "aeq = [1,1,1,1,0]\n",
    "\n",
    "bub = [0,0,0,0]\n",
    "\n",
    "beq = [1]\n",
    "\n",
    "'''\n",
    "row1 = 0*y1+2*y2-3*y3 # >= 0\n",
    "row2 = -2*y1+0*y2+0*y3+3*y4\n",
    "row4 = 3*y1+0*y2+0*y3-4*y4\n",
    "row4 = 0*y1+-3*y2+4*y3+0*y4\n",
    "'''\n",
    "\n",
    "sol = scipy.optimize.linprog(c, A_ub=aub, b_ub=bub, A_eq=aeq, b_eq=beq)\n",
    "\n",
    "for _ in range(1):\n",
    "    print(_, sol[\"x\"][_])\n",
    "    \n",
    "# not that the NASH SUPPORT is strategy 2 and 3 for this specfic game (colum player will choose 0)\n",
    "# note: PURE NASH has one statey\n",
    "# note: mixed nash has at least 2 strats"
   ]
  },
  {
   "cell_type": "code",
   "execution_count": null,
   "id": "63f18a80",
   "metadata": {},
   "outputs": [],
   "source": []
  }
 ],
 "metadata": {
  "kernelspec": {
   "display_name": "fit5226",
   "language": "python",
   "name": "python3"
  },
  "language_info": {
   "codemirror_mode": {
    "name": "ipython",
    "version": 3
   },
   "file_extension": ".py",
   "mimetype": "text/x-python",
   "name": "python",
   "nbconvert_exporter": "python",
   "pygments_lexer": "ipython3",
   "version": "3.13.2"
  }
 },
 "nbformat": 4,
 "nbformat_minor": 5
}
