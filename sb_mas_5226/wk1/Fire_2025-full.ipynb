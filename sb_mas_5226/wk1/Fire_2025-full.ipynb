{
 "cells": [
  {
   "cell_type": "code",
   "execution_count": 9,
   "id": "1e460d38",
   "metadata": {
    "id": "1e460d38"
   },
   "outputs": [],
   "source": [
    "#%matplotlib ipympl"
   ]
  },
  {
   "cell_type": "code",
   "execution_count": 1,
   "id": "e6256163",
   "metadata": {
    "id": "e6256163"
   },
   "outputs": [],
   "source": [
    "import numpy as np\n",
    "from matplotlib import pyplot as plt\n",
    "from matplotlib import animation\n",
    "from matplotlib import colors\n",
    "from matplotlib.widgets import Button, Slider"
   ]
  },
  {
   "cell_type": "code",
   "execution_count": 2,
   "id": "b24f0285",
   "metadata": {
    "id": "b24f0285"
   },
   "outputs": [],
   "source": [
    "EMPTY, TREE, FIRE = 0, 1, 2\n",
    "neighbourhood = ((-1,-1), (-1,0), (-1,1), (0,-1), (0, 1), (1,-1), (1,0), (1,1))\n",
    "\n",
    "# Colors for visualization\n",
    "colors_list = [(0.2,0,0), (0,0.5,0), (1,0,0), 'orange']\n",
    "cmap = colors.ListedColormap(colors_list)\n",
    "bounds = [0,1,2,3]\n",
    "norm = colors.BoundaryNorm(bounds, cmap.N)"
   ]
  },
  {
   "cell_type": "code",
   "execution_count": 3,
   "id": "02bf792c",
   "metadata": {
    "id": "02bf792c"
   },
   "outputs": [],
   "source": [
    "forest_fraction = 0.65\n",
    "p, f = 0, 0\n",
    "nx, ny = 100, 100\n",
    "X = np.zeros((ny, nx))"
   ]
  },
  {
   "cell_type": "code",
   "execution_count": 4,
   "id": "9ab4698b",
   "metadata": {
    "id": "9ab4698b"
   },
   "outputs": [],
   "source": [
    "def iterate(X):\n",
    "    \"\"\"Iterate the forest according to the forest-fire rules.\"\"\"\n",
    "    X1 = np.zeros((ny, nx))\n",
    "    for ix in range(1, nx-1):\n",
    "        for iy in range(1, ny-1):\n",
    "            if X[iy, ix] == EMPTY and np.random.random() <= p:\n",
    "                X1[iy, ix] = TREE\n",
    "            elif X[iy, ix] == TREE:\n",
    "                X1[iy, ix] = TREE\n",
    "                for dx, dy in neighbourhood:\n",
    "                    if abs(dx) == abs(dy) and np.random.random() < 0.573:\n",
    "                        continue\n",
    "                    if X[iy+dy, ix+dx] == FIRE:\n",
    "                        X1[iy, ix] = FIRE\n",
    "                        break\n",
    "                else:\n",
    "                    if np.random.random() <= f:\n",
    "                        X1[iy, ix] = FIRE\n",
    "            elif X[iy, ix] == FIRE:\n",
    "                X1[iy, ix] = EMPTY  # Fire burns out\n",
    "    return X1\n"
   ]
  },
  {
   "cell_type": "code",
   "execution_count": 5,
   "id": "cfa040b6",
   "metadata": {
    "id": "cfa040b6"
   },
   "outputs": [],
   "source": [
    "# Initialize the forest grid.\n",
    "X  = np.zeros((ny, nx))\n",
    "\n",
    "def init(forest_fraction):\n",
    "    global X\n",
    "    X[1:ny-1, 1:nx-1] = np.random.randint(0, 2, size=(ny-2, nx-2))\n",
    "    X[1:ny-1, 1:nx-1] = np.random.random(size=(ny-2, nx-2)) < forest_fraction"
   ]
  },
  {
   "cell_type": "code",
   "execution_count": 6,
   "id": "0d5dedd6",
   "metadata": {
    "id": "0d5dedd6"
   },
   "outputs": [],
   "source": [
    "def animate(i):\n",
    "    \"\"\"Update the animation frame.\"\"\"\n",
    "    global mat\n",
    "    mat.set_data(animate.X)\n",
    "    animate.X = iterate(animate.X)\n",
    "    plt.draw()"
   ]
  },
  {
   "cell_type": "code",
   "execution_count": 7,
   "id": "127acfa6-771a-4ac6-9175-0af530dd13fd",
   "metadata": {},
   "outputs": [],
   "source": [
    "def simulation(density):\n",
    "    \"\"\"Run the simulation.\"\"\"\n",
    "    global fig, ax, mat, anim\n",
    "    fig, ax = plt.subplots()\n",
    "    ax.axis('off')\n",
    "    plt.title(\"Forest Fire Percolation Model\")\n",
    "\n",
    "    def advance(d):\n",
    "        \"\"\"Advance one step in the simulation.\"\"\"\n",
    "        global mat\n",
    "        mat.set_data(animate.X)\n",
    "        animate.X = iterate(animate.X)\n",
    "        plt.draw()\n",
    "\n",
    "    def stopAnim(d):\n",
    "        anim.event_source.stop()\n",
    "\n",
    "    def startAnim(d):\n",
    "        anim.event_source.start()\n",
    "\n",
    "    def initAnim(d):\n",
    "        global X, mat\n",
    "        init(density)\n",
    "        animate.X = X.copy()\n",
    "        started = False\n",
    "        while not started:\n",
    "            xs, ys = np.random.randint(1, nx-1), np.random.randint(1, ny-1)\n",
    "            if X[ys, xs] == TREE:\n",
    "                X[ys, xs] = FIRE\n",
    "                started = True\n",
    "        mat = ax.imshow(X, cmap=cmap, norm=norm)\n",
    "        plt.draw()\n",
    "\n",
    "    def updateDensity(val):\n",
    "        nonlocal density\n",
    "        density = sdensity.val\n",
    "\n",
    "    axdensity = plt.axes([0.175, 0.05, 0.65, 0.03])\n",
    "    sdensity = Slider(axdensity, 'Threshold', 0.0, 1.0, valinit=density)\n",
    "    sdensity.on_changed(updateDensity)\n",
    "\n",
    "    axnext = plt.axes([0.85, 0.15, 0.1, 0.075])\n",
    "    axstart = plt.axes([0.85, 0.25, 0.1, 0.075])\n",
    "    axstop = plt.axes([0.85, 0.35, 0.1, 0.075])\n",
    "    axinit = plt.axes([0.85, 0.45, 0.1, 0.075])\n",
    "\n",
    "    bnext = Button(axnext, 'Next')\n",
    "    bnext.on_clicked(advance)\n",
    "    bstart = Button(axstart, 'Resume')\n",
    "    bstart.on_clicked(startAnim)\n",
    "    bstop = Button(axstop, 'Stop')\n",
    "    bstop.on_clicked(stopAnim)\n",
    "    binit = Button(axinit, 'Init')\n",
    "    binit.on_clicked(initAnim)\n",
    "\n",
    "    initAnim(None)\n",
    "\n",
    "    anim = animation.FuncAnimation(fig, animate, frames=None, cache_frame_data=False, interval=60, repeat=False)\n",
    "    plt.show()"
   ]
  },
  {
   "cell_type": "code",
   "execution_count": 8,
   "id": "336fafd5-72bb-4fca-bee1-b102e0b5205b",
   "metadata": {},
   "outputs": [
    {
     "data": {
      "image/png": "[encoded data removed]",
      "text/plain": [
       "<Figure size 640x480 with 6 Axes>"
      ]
     },
     "metadata": {},
     "output_type": "display_data"
    }
   ],
   "source": [
    "density=0.5\n",
    "threshold =0.7\n",
    "simulation(density)"
   ]
  },
  {
   "cell_type": "code",
   "execution_count": null,
   "id": "a041d162",
   "metadata": {},
   "outputs": [],
   "source": []
  }
 ],
 "metadata": {
  "colab": {
   "provenance": []
  },
  "kernelspec": {
   "display_name": "fit5226",
   "language": "python",
   "name": "python3"
  },
  "language_info": {
   "codemirror_mode": {
    "name": "ipython",
    "version": 3
   },
   "file_extension": ".py",
   "mimetype": "text/x-python",
   "name": "python",
   "nbconvert_exporter": "python",
   "pygments_lexer": "ipython3",
   "version": "3.13.2"
  }
 },
 "nbformat": 4,
 "nbformat_minor": 5
}
