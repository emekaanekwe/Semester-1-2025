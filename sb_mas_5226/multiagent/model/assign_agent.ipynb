{
 "cells": [
  {
   "cell_type": "code",
   "execution_count": 14,
   "id": "e2928015",
   "metadata": {},
   "outputs": [],
   "source": [
    "from IPython.display import Image\n",
    "import random\n",
    "import numpy as np\n"
   ]
  },
  {
   "cell_type": "code",
   "execution_count": null,
   "id": "21e00a9a",
   "metadata": {},
   "outputs": [],
   "source": [
    "class GridWorld:\n",
    "    def __init__(self, n: int, m: int, learning_rate: int, gamma: int):\n",
    "        self.grid = np.zeros([n, m])\n",
    "        self.agent_position = ((0,0))\n",
    "        self.possible_states = []\n",
    "        self.q_matrix = np.random.rand(5,5)\n",
    "        self.learning_rate = learning_rate\n",
    "        self.gamma = gamma\n",
    "        self.reward_matrix = [0.5, 0.2, 0.3, 0.7, 0.0]    \n",
    "    \n",
    "     \n",
    "    def populate_agents(self, num_agents: set):\n",
    "        pos = self.agent_position\n",
    "        # init grid\n",
    "        for i in range(num_agents):\n",
    "            dx = random.randint(1,self.n)\n",
    "            dy = random.randint(1, self.m)\n",
    "            pos.add((dx, dy))\n",
    "        return pos\n",
    "    def generate_grid(self):\n",
    "    # initialie for q(s',a') consider all 0's\n",
    "    # research done on initializeing vals\n",
    "        return self.grid"
   ]
  },
  {
   "cell_type": "code",
   "execution_count": null,
   "id": "0bc3c9a0",
   "metadata": {},
   "outputs": [
    {
     "data": {
      "text/plain": [
       "'THIS SECTION CONCERNS Q-TABLES'"
      ]
     },
     "execution_count": 16,
     "metadata": {},
     "output_type": "execute_result"
    }
   ],
   "source": [
    "class Agent:\n",
    "    def __init__(self, actions: tuple):\n",
    "        self.actions = actions\n",
    "        \n",
    "    def choose_action(self, state):\n",
    "        # TODO: Policy f: State -> Actions\n",
    "        state = [[]]\n",
    "        new_state = (state[0][0] = action[0] for action in actions) if action == 0 retrun True else 0\n",
    "        # we are increasing the num of grids by a factor of 5\n",
    "        return new_state, Agent.choose_action()\n",
    "   \n"
   ]
  },
  {
   "cell_type": "code",
   "execution_count": 17,
   "id": "f1ae6822",
   "metadata": {},
   "outputs": [
    {
     "name": "stdout",
     "output_type": "stream",
     "text": [
      "[[0. 0. 0. 0. 0.]\n",
      " [0. 0. 0. 0. 0.]\n",
      " [0. 0. 0. 0. 0.]\n",
      " [0. 0. 0. 0. 0.]\n",
      " [0. 0. 0. 0. 0.]]\n"
     ]
    }
   ],
   "source": [
    "trial1 = GridWorld(5,5,0,0).getgrid()\n",
    "print(trial1)"
   ]
  },
  {
   "cell_type": "code",
   "execution_count": null,
   "id": "6bd629a6",
   "metadata": {},
   "outputs": [],
   "source": []
  }
 ],
 "metadata": {
  "kernelspec": {
   "display_name": "fit5226",
   "language": "python",
   "name": "python3"
  },
  "language_info": {
   "codemirror_mode": {
    "name": "ipython",
    "version": 3
   },
   "file_extension": ".py",
   "mimetype": "text/x-python",
   "name": "python",
   "nbconvert_exporter": "python",
   "pygments_lexer": "ipython3",
   "version": "3.13.2"
  }
 },
 "nbformat": 4,
 "nbformat_minor": 5
}
