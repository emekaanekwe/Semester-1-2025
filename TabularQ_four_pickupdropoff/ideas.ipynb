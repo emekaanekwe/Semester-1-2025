{
 "cells": [
  {
   "cell_type": "markdown",
   "id": "839e05c1",
   "metadata": {},
   "source": [
    "## For Unittests\n",
    "\n",
    "I want to be able to test the more mathematical aspects of the TQL project separately. "
   ]
  },
  {
   "cell_type": "markdown",
   "id": "c48ade7a",
   "metadata": {},
   "source": []
  }
 ],
 "metadata": {
  "language_info": {
   "name": "python"
  }
 },
 "nbformat": 4,
 "nbformat_minor": 5
}
