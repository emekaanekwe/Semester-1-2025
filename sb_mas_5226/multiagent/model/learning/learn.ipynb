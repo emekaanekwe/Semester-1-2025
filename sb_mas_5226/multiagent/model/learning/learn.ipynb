{
 "cells": [
  {
   "cell_type": "markdown",
   "id": "0a195e30",
   "metadata": {
    "vscode": {
     "languageId": "latex"
    }
   },
   "source": [
    "Where is the actual learning?\n",
    "## SARSA-Lambda (bridge btw SARSA and monte carlo)\n",
    "\n",
    "### Req: Exponential Decay\n",
    "$$\n",
    "G​=(1−λ)\\sum_{n=1}^{∞}​λ^{n−1}G_{t}^{(n)}​\n",
    "$$\n",
    "\n",
    "\n"
   ]
  },
  {
   "cell_type": "code",
   "execution_count": 13,
   "id": "6936acf8",
   "metadata": {},
   "outputs": [
    {
     "data": {
      "text/plain": [
       "'\\nfinal_q_value = sum((state, action))\\n\\n'"
      ]
     },
     "execution_count": 13,
     "metadata": {},
     "output_type": "execute_result"
    }
   ],
   "source": [
    "import numpy as np\n",
    "import random as rand\n",
    "import scipy\n",
    "\n",
    "#new_q = current_q + learning_rate * (reward + gamma * max(next_state) - current_q)\n",
    "'''\n",
    "final_q_value = sum((state, action))\n",
    "\n",
    "'''"
   ]
  },
  {
   "cell_type": "markdown",
   "id": "cce63bca",
   "metadata": {},
   "source": [
    "### Q-Table"
   ]
  },
  {
   "cell_type": "code",
   "execution_count": null,
   "id": "ae4b8533",
   "metadata": {},
   "outputs": [
    {
     "name": "stdout",
     "output_type": "stream",
     "text": [
      "[[0. 0. 0. 0.]\n",
      " [0. 0. 0. 0.]\n",
      " [0. 0. 0. 0.]\n",
      " [0. 0. 0. 0.]\n",
      " [0. 0. 0. 0.]\n",
      " [0. 0. 0. 0.]\n",
      " [0. 0. 0. 0.]\n",
      " [0. 0. 0. 0.]\n",
      " [0. 0. 0. 0.]]\n"
     ]
    }
   ],
   "source": [
    "grid = [\n",
    "        [0,1,2],\n",
    "        [5,6,7],\n",
    "        [8,9,10]\n",
    "        ]\n",
    "\n",
    "# actions\n",
    "N = (1,1)\n",
    "S = (2,2)\n",
    "E = (2,1)\n",
    "W = (1,2)\n",
    "\n",
    "total_cells = 9 # total states\n",
    "total_actions = 4\n",
    "\n",
    "# q-table (stage 0)\n",
    "qt = np.zeros((total_cells, total_actions)) # returns:\n",
    "\n",
    "'''\n",
    "  Noth South East West\n",
    "0  0              0\n",
    "1     .\n",
    "2  .     .\n",
    ".          .\n",
    ".             .\n",
    "9 0                0\n",
    "''' \n",
    "print(qt)\n",
    "# table\n",
    "\n",
    "# "
   ]
  },
  {
   "cell_type": "markdown",
   "id": "bff3abec",
   "metadata": {},
   "source": [
    "### Q Returning"
   ]
  },
  {
   "cell_type": "code",
   "execution_count": null,
   "id": "8edc016f",
   "metadata": {},
   "outputs": [],
   "source": [
    "# Q-return instantiated as a 10-step return\n",
    "G = 0\n",
    "gamma = 0.98\n",
    "for i in range(10):\n",
    "    G += (gamma ** i) * rewards[t + i]\n",
    "G += (gamma ** 10) * Q[s_t10][a_t10]"
   ]
  },
  {
   "cell_type": "markdown",
   "id": "32cfeef1",
   "metadata": {},
   "source": [
    "### Run Episode"
   ]
  },
  {
   "cell_type": "code",
   "execution_count": null,
   "id": "0a41436e",
   "metadata": {},
   "outputs": [],
   "source": [
    "def GridWorldSim(state, transition_pr, reward_v, ):\n",
    "    total_transitions = [0,5,6,9,10]\n",
    "    return \n",
    "\n",
    "reached_A = False\n",
    "\n",
    "def reset():\n",
    "    initial_state = (0,0)\n",
    "    \n",
    "agent_position = (1,1)\n",
    "goal_position = (3,3)\n",
    "reward_total = []\n",
    "\n",
    "def get_agent_position():\n",
    "    return agent_position\n",
    "\n",
    "nest_location = (1,2)\n",
    "def choose_action():\n",
    "    # North South East West\n",
    "    return rd.choice(((1,1), (2,2), (2,1), (1,2)))\n",
    "\n",
    "def get_state():\n",
    "    current_state = (1,1) # example position\n",
    "    return current_state\n",
    "\n",
    "def run_episode():\n",
    "    num_episodes = 0\n",
    "    for episode in range(num_episodes+1):   \n",
    "        if (episode == 5000):\n",
    "            print(episode, \"episodes\")\n",
    "            return 1\n",
    "        elif get_agent_position == goal_position:\n",
    "            reached_A = True\n",
    "            return 1\n",
    "        else:\n",
    "            max_steps = 25\n",
    "            reset()\n",
    "            number_of_steps = 1\n",
    "            reward_per_episode =  1\n",
    "            take_action = choose_action()\n",
    "            while number_of_steps<= max_steps and (agent_position != nest_location or reached_A != True):  \n",
    "                # Continue until reaching location B or too many steps   \n",
    "                state = get_state()\n",
    "                action = choose_action(state)\n",
    "                reward = take_action(action)\n",
    "                reward_per_episode += reward\n",
    "                done = check_done()\n",
    "                number_of_steps += 1\n",
    "            reward_total.append(reward_per_episode)\n",
    "        \n"
   ]
  }
 ],
 "metadata": {
  "kernelspec": {
   "display_name": "fit5226",
   "language": "python",
   "name": "python3"
  },
  "language_info": {
   "codemirror_mode": {
    "name": "ipython",
    "version": 3
   },
   "file_extension": ".py",
   "mimetype": "text/x-python",
   "name": "python",
   "nbconvert_exporter": "python",
   "pygments_lexer": "ipython3",
   "version": "3.13.2"
  }
 },
 "nbformat": 4,
 "nbformat_minor": 5
}
