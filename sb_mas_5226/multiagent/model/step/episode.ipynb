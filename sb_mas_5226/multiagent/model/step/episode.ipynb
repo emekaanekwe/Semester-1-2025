{
 "cells": [
  {
   "cell_type": "markdown",
   "id": "91ba19df",
   "metadata": {},
   "source": [
    "#### Loop for each episode (after 25 steps)"
   ]
  },
  {
   "cell_type": "code",
   "execution_count": null,
   "id": "eba061ea",
   "metadata": {},
   "outputs": [],
   "source": [
    "import numpy as np\n",
    "import random as rd"
   ]
  },
  {
   "cell_type": "code",
   "execution_count": 1,
   "id": "fd407dfd",
   "metadata": {},
   "outputs": [],
   "source": [
    "reached_A = False\n",
    "\n",
    "def reset():\n",
    "    initial_state = (0,0)\n",
    "    \n",
    "agent_position = (1,1)\n",
    "goal_position = (3,3)\n",
    "reward_total = []\n",
    "\n",
    "def get_agent_position():\n",
    "    return agent_position\n",
    "\n",
    "nest_location = (1,2)\n",
    "def choose_action():\n",
    "    # North South East West\n",
    "    return rd.choice(((1,1), (2,2), (2,1), (1,2)))\n",
    "\n",
    "def get_state():\n",
    "    current_state = (1,1) # example position\n",
    "    return current_state\n",
    "\n",
    "def run_episode():\n",
    "    num_episodes = 0\n",
    "    for episode in range(num_episodes+1):   \n",
    "        if (episode == 5000):\n",
    "            print(episode, \"episodes\")\n",
    "            return 1\n",
    "        elif get_agent_position == goal_position:\n",
    "            reached_A = True\n",
    "            return 1\n",
    "        else:\n",
    "            max_steps = 25\n",
    "            reset()\n",
    "            number_of_steps = 1\n",
    "            reward_per_episode =  1\n",
    "            take_action = choose_action()\n",
    "            while number_of_steps<= max_steps and (agent_position != nest_location or reached_A != True):  \n",
    "                # Continue until reaching location B or too many steps   \n",
    "                state = get_state()\n",
    "                action = choose_action(state)\n",
    "                reward = take_action(action)\n",
    "                reward_per_episode += reward\n",
    "                done = check_done()\n",
    "                number_of_steps += 1\n",
    "            reward_total.append(reward_per_episode)\n",
    "        \n"
   ]
  },
  {
   "cell_type": "code",
   "execution_count": null,
   "id": "cb5d4937",
   "metadata": {},
   "outputs": [],
   "source": []
  }
 ],
 "metadata": {
  "kernelspec": {
   "display_name": "fit5226",
   "language": "python",
   "name": "python3"
  },
  "language_info": {
   "codemirror_mode": {
    "name": "ipython",
    "version": 3
   },
   "file_extension": ".py",
   "mimetype": "text/x-python",
   "name": "python",
   "nbconvert_exporter": "python",
   "pygments_lexer": "ipython3",
   "version": "3.13.2"
  }
 },
 "nbformat": 4,
 "nbformat_minor": 5
}
