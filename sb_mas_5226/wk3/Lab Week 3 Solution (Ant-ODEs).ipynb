{
 "cells": [
  {
   "cell_type": "markdown",
   "id": "c0880063",
   "metadata": {},
   "source": [
    "# Lab Week 3"
   ]
  },
  {
   "cell_type": "markdown",
   "id": "855e25de",
   "metadata": {},
   "source": [
    "## Example solution for the ant problem, including plotting"
   ]
  },
  {
   "cell_type": "code",
   "execution_count": 2,
   "id": "e520dfae",
   "metadata": {},
   "outputs": [],
   "source": [
    "from scipy.integrate import odeint"
   ]
  },
  {
   "cell_type": "code",
   "execution_count": 3,
   "id": "bcbbf78a",
   "metadata": {},
   "outputs": [],
   "source": [
    "import numpy as np"
   ]
  },
  {
   "cell_type": "markdown",
   "id": "6da94753",
   "metadata": {},
   "source": [
    "Set the parameters"
   ]
  },
  {
   "cell_type": "code",
   "execution_count": 4,
   "id": "bdfdb06c",
   "metadata": {},
   "outputs": [],
   "source": [
    "k = 0\n",
    "mu = 2\n",
    "r = 0.05"
   ]
  },
  {
   "cell_type": "code",
   "execution_count": 5,
   "id": "fa631c50",
   "metadata": {},
   "outputs": [],
   "source": [
    "l1 = 2;\n",
    "l2 = 3;"
   ]
  },
  {
   "cell_type": "markdown",
   "id": "84237f75",
   "metadata": {},
   "source": [
    "Set the inital conditions"
   ]
  },
  {
   "cell_type": "code",
   "execution_count": 6,
   "id": "e5435c29",
   "metadata": {},
   "outputs": [],
   "source": [
    "c0s=[1,1]"
   ]
  },
  {
   "cell_type": "markdown",
   "id": "4f0f41bf",
   "metadata": {},
   "source": [
    "Generate an array of test points at which you want to evaluate the system"
   ]
  },
  {
   "cell_type": "code",
   "execution_count": 7,
   "id": "74dcdb7f",
   "metadata": {},
   "outputs": [],
   "source": [
    "t = np.linspace(0, 200, 101)"
   ]
  },
  {
   "cell_type": "markdown",
   "id": "fd67b926",
   "metadata": {},
   "source": [
    "Define the choice function"
   ]
  },
  {
   "cell_type": "code",
   "execution_count": 8,
   "id": "883bf4d0",
   "metadata": {},
   "outputs": [],
   "source": [
    "def p1(c1, c2):\n",
    "    global k\n",
    "    global mu\n",
    "    return (k+c1)**mu/((k+c1)**mu+(k+c2)**mu)"
   ]
  },
  {
   "cell_type": "code",
   "execution_count": 9,
   "id": "80c72325",
   "metadata": {},
   "outputs": [],
   "source": [
    "def p2(c1, c2):\n",
    "    return 1-p1(c1, c2)"
   ]
  },
  {
   "cell_type": "markdown",
   "id": "249b49b0",
   "metadata": {},
   "source": [
    "With this, the system of ODEs is:"
   ]
  },
  {
   "cell_type": "code",
   "execution_count": 10,
   "id": "7b6d0c57",
   "metadata": {},
   "outputs": [],
   "source": [
    "def pheromones(cs, t):\n",
    "    global q1\n",
    "    global q2\n",
    "    global r\n",
    "    c1, c2 = cs\n",
    "    dcdt = [\n",
    "        p1(c1,c2)*1/l1-r*c1,\n",
    "        p2(c1,c2)*1/l2-r*c2\n",
    "    ]\n",
    "    return dcdt"
   ]
  },
  {
   "cell_type": "markdown",
   "id": "7aa24534",
   "metadata": {},
   "source": [
    "And simply tell scipy to solve it by forward integration"
   ]
  },
  {
   "cell_type": "code",
   "execution_count": 11,
   "id": "5fd6d18a",
   "metadata": {},
   "outputs": [],
   "source": [
    "sol = odeint(pheromones, c0s, t, args=())"
   ]
  },
  {
   "cell_type": "markdown",
   "id": "4c3287cc",
   "metadata": {},
   "source": [
    "We can then use the standard plotting library Matplotlib to plot the result:"
   ]
  },
  {
   "cell_type": "code",
   "execution_count": 12,
   "id": "a66d94c8",
   "metadata": {},
   "outputs": [
    {
     "data": {
      "image/png": "[encoded data removed]",
      "text/plain": [
       "<Figure size 640x480 with 1 Axes>"
      ]
     },
     "metadata": {},
     "output_type": "display_data"
    }
   ],
   "source": [
    "import matplotlib.pyplot as plt\n",
    "plt.plot(t, sol[:, 0], 'b', label='c1')\n",
    "plt.plot(t, sol[:, 1], 'g', label='c2')\n",
    "plt.legend(loc='best')\n",
    "plt.xlabel('t')\n",
    "plt.grid()\n",
    "plt.show()"
   ]
  },
  {
   "cell_type": "code",
   "execution_count": null,
   "id": "11dcf14a-e28f-4292-a5e7-9a80845c8861",
   "metadata": {},
   "outputs": [],
   "source": []
  }
 ],
 "metadata": {
  "kernelspec": {
   "display_name": "fit5226",
   "language": "python",
   "name": "python3"
  },
  "language_info": {
   "codemirror_mode": {
    "name": "ipython",
    "version": 3
   },
   "file_extension": ".py",
   "mimetype": "text/x-python",
   "name": "python",
   "nbconvert_exporter": "python",
   "pygments_lexer": "ipython3",
   "version": "3.13.2"
  }
 },
 "nbformat": 4,
 "nbformat_minor": 5
}
